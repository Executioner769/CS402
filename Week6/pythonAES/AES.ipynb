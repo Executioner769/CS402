{
  "nbformat": 4,
  "nbformat_minor": 0,
  "metadata": {
    "colab": {
      "provenance": []
    },
    "kernelspec": {
      "name": "python3",
      "display_name": "Python 3"
    },
    "language_info": {
      "name": "python"
    }
  },
  "cells": [
    {
      "cell_type": "code",
      "execution_count": 1,
      "metadata": {
        "colab": {
          "base_uri": "https://localhost:8080/"
        },
        "id": "Nd2js_BFxT47",
        "outputId": "fbfee315-040c-4082-c584-f9cdcd9f2119"
      },
      "outputs": [
        {
          "output_type": "stream",
          "name": "stdout",
          "text": [
            "Looking in indexes: https://pypi.org/simple, https://us-python.pkg.dev/colab-wheels/public/simple/\n",
            "Collecting pycryptodome\n",
            "  Downloading pycryptodome-3.16.0-cp35-abi3-manylinux_2_5_x86_64.manylinux1_x86_64.manylinux_2_12_x86_64.manylinux2010_x86_64.whl (2.3 MB)\n",
            "\u001b[K     |████████████████████████████████| 2.3 MB 11.5 MB/s \n",
            "\u001b[?25hInstalling collected packages: pycryptodome\n",
            "Successfully installed pycryptodome-3.16.0\n"
          ]
        }
      ],
      "source": [
        "pip install pycryptodome"
      ]
    },
    {
      "cell_type": "code",
      "source": [
        "from Crypto.Cipher import AES"
      ],
      "metadata": {
        "id": "u0s3kebUxWkz"
      },
      "execution_count": 28,
      "outputs": []
    },
    {
      "cell_type": "code",
      "source": [
        "key = b'C&F)H@McQfTjWnZr'"
      ],
      "metadata": {
        "id": "K9FBHdrYxjYa"
      },
      "execution_count": 39,
      "outputs": []
    },
    {
      "cell_type": "code",
      "source": [
        "cipher = AES.new(key, AES.MODE_EAX)"
      ],
      "metadata": {
        "id": "ehdK4SMSxrK4"
      },
      "execution_count": 40,
      "outputs": []
    },
    {
      "cell_type": "code",
      "source": [
        "cipher"
      ],
      "metadata": {
        "colab": {
          "base_uri": "https://localhost:8080/"
        },
        "id": "thbqdsAMxv4x",
        "outputId": "30f6a35c-6a98-4541-d22b-d9fe2a7a16ea"
      },
      "execution_count": 41,
      "outputs": [
        {
          "output_type": "execute_result",
          "data": {
            "text/plain": [
              "<Crypto.Cipher._mode_eax.EaxMode at 0x7fcfa3563490>"
            ]
          },
          "metadata": {},
          "execution_count": 41
        }
      ]
    },
    {
      "cell_type": "code",
      "source": [
        "data = \"Hello there\".encode()"
      ],
      "metadata": {
        "id": "_DIIrVbyxxB3"
      },
      "execution_count": 42,
      "outputs": []
    },
    {
      "cell_type": "code",
      "source": [
        "nonce = cipher.nonce"
      ],
      "metadata": {
        "id": "OVrykRtEx05d"
      },
      "execution_count": 43,
      "outputs": []
    },
    {
      "cell_type": "code",
      "source": [
        "ciphertext = cipher.encrypt(data)\n",
        "print(\"Cipher text:\", ciphertext)"
      ],
      "metadata": {
        "colab": {
          "base_uri": "https://localhost:8080/"
        },
        "id": "YoUdw0T4x25g",
        "outputId": "42a8bc74-71d6-4d7e-c65e-272ea42d64be"
      },
      "execution_count": 44,
      "outputs": [
        {
          "output_type": "stream",
          "name": "stdout",
          "text": [
            "Cipher text: b'\\x7f\\x81|0\\xae\\x89\\xcb\\x82sL\\xd3'\n"
          ]
        }
      ]
    },
    {
      "cell_type": "code",
      "source": [
        "cipher = AES.new(key, AES.MODE_EAX, nonce=nonce)"
      ],
      "metadata": {
        "id": "Oh-SpTgpx6H1"
      },
      "execution_count": 45,
      "outputs": []
    },
    {
      "cell_type": "code",
      "source": [
        "plaintext = cipher.decrypt(ciphertext)\n",
        "print(\"Plain text:\", plaintext)"
      ],
      "metadata": {
        "colab": {
          "base_uri": "https://localhost:8080/"
        },
        "id": "4dfLsTpMx_f-",
        "outputId": "051a6dfd-461b-4e8e-8be5-02f73f7d13fc"
      },
      "execution_count": 46,
      "outputs": [
        {
          "output_type": "stream",
          "name": "stdout",
          "text": [
            "Plain text: b'Hello there'\n"
          ]
        }
      ]
    },
    {
      "cell_type": "code",
      "source": [],
      "metadata": {
        "id": "hpsl6iXqyOA3"
      },
      "execution_count": null,
      "outputs": []
    }
  ]
}